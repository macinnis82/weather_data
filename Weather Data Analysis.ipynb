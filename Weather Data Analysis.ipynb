{
 "cells": [
  {
   "cell_type": "code",
   "execution_count": 11,
   "metadata": {
    "collapsed": true
   },
   "outputs": [],
   "source": [
    "cities = {\n",
    "    \"Boston\": '42.331960, -71.020173',\n",
    "    \"Seattle\": '47.620499, -122.350876',\n",
    "    \"Miami\": '25.775163, -80.208615',\n",
    "    \"Cleveland\": '41.478462, -81.679435',\n",
    "    \"Nashville\": '36.171800, -86.785002'\n",
    "}\n",
    "\n",
    "api_key = 'cfc6c7845bf3bab98a881bc32987677a'"
   ]
  },
  {
   "cell_type": "code",
   "execution_count": 12,
   "metadata": {
    "collapsed": false
   },
   "outputs": [
    {
     "data": {
      "text/plain": [
       "{u'apparentTemperatureMax': 51.09,\n",
       " u'apparentTemperatureMaxTime': 1450897200,\n",
       " u'apparentTemperatureMin': 44.07,\n",
       " u'apparentTemperatureMinTime': 1450918800,\n",
       " u'cloudCover': 0.69,\n",
       " u'dewPoint': 47.17,\n",
       " u'humidity': 0.94,\n",
       " u'icon': u'rain',\n",
       " u'moonPhase': 0.44,\n",
       " u'ozone': 261.1,\n",
       " u'precipIntensity': 0.0101,\n",
       " u'precipIntensityMax': 0.0688,\n",
       " u'precipIntensityMaxTime': 1450929600,\n",
       " u'precipProbability': 0.75,\n",
       " u'precipType': u'rain',\n",
       " u'pressure': 1021.81,\n",
       " u'summary': u'Rain starting in the evening.',\n",
       " u'sunriseTime': 1450872721,\n",
       " u'sunsetTime': 1450905396,\n",
       " u'temperatureMax': 51.09,\n",
       " u'temperatureMaxTime': 1450897200,\n",
       " u'temperatureMin': 46.06,\n",
       " u'temperatureMinTime': 1450872000,\n",
       " u'time': 1450846800,\n",
       " u'visibility': 5.84,\n",
       " u'windBearing': 85,\n",
       " u'windSpeed': 3.17}"
      ]
     },
     "execution_count": 12,
     "metadata": {},
     "output_type": "execute_result"
    }
   ],
   "source": [
    "import datetime\n",
    "import requests\n",
    "url = 'https://api.forecast.io/forecast/'\n",
    "#current_time = datetime.datetime.now().strftime(\"%s\")\n",
    "current_time = int((datetime.datetime.now() - datetime.datetime(1970,1,1)).total_seconds())\n",
    "api_call = url + api_key + '/' + cities['Boston'] + ',' + str(current_time)\n",
    "#current_time\n",
    "\n",
    "r = requests.get(api_call)\n",
    "r.json()['daily']['data'][0]"
   ]
  },
  {
   "cell_type": "code",
   "execution_count": 14,
   "metadata": {
    "collapsed": false
   },
   "outputs": [],
   "source": [
    "import sqlite3 as lite\n",
    "\n",
    "con = lite.connect('weather.db')\n",
    "cur = con.cursor()\n",
    "\n",
    "with con:\n",
    "    cur.execute(\"DROP TABLE IF EXISTS daily_temp\")\n",
    "    cur.execute(\n",
    "        \"\"\"CREATE TABLE daily_temp (\n",
    "                query_time INT,\n",
    "                Boston REAL,\n",
    "                Seattle REAL,\n",
    "                Miami REAL,\n",
    "                Cleveland REAL,\n",
    "                Nashville REAL);\"\"\"\n",
    "    )"
   ]
  },
  {
   "cell_type": "code",
   "execution_count": 15,
   "metadata": {
    "collapsed": false
   },
   "outputs": [],
   "source": [
    "for i in range(30):\n",
    "    query_time = int(((datetime.datetime.now() - datetime.timedelta(days=i)) - datetime.datetime(1970,1,1)).total_seconds())\n",
    "    #print query_time\n",
    "    with con:\n",
    "        cur.execute(\"INSERT INTO daily_temp(query_time) VALUES (?)\", (query_time,))\n",
    "     \n",
    "    for city, loc in cities.items():\n",
    "        api_call = url + api_key + '/' + loc + ',' + str(query_time)\n",
    "\n",
    "        r = requests.get(api_call)\n",
    "        max_temp = r.json()['daily']['data'][0]['temperatureMax']\n",
    "        \n",
    "        with con:\n",
    "            cur.execute(\n",
    "                \"UPDATE daily_temp SET \" + city + \" = \" + str(max_temp) + \" \" +\n",
    "                \"WHERE query_time = \" + str(query_time)\n",
    "            )"
   ]
  }
 ],
 "metadata": {
  "kernelspec": {
   "display_name": "Python 2",
   "language": "python",
   "name": "python2"
  },
  "language_info": {
   "codemirror_mode": {
    "name": "ipython",
    "version": 2
   },
   "file_extension": ".py",
   "mimetype": "text/x-python",
   "name": "python",
   "nbconvert_exporter": "python",
   "pygments_lexer": "ipython2",
   "version": "2.7.10"
  }
 },
 "nbformat": 4,
 "nbformat_minor": 0
}
